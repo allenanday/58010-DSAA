{
  "nbformat": 4,
  "nbformat_minor": 0,
  "metadata": {
    "colab": {
      "provenance": [],
      "authorship_tag": "ABX9TyNAjiVL9SXP/8gftoPeJGQu",
      "include_colab_link": true
    },
    "kernelspec": {
      "name": "python3",
      "display_name": "Python 3"
    },
    "language_info": {
      "name": "python"
    }
  },
  "cells": [
    {
      "cell_type": "markdown",
      "metadata": {
        "id": "view-in-github",
        "colab_type": "text"
      },
      "source": [
        "<a href=\"https://colab.research.google.com/github/allenanday/58010-DSAA/blob/main/Example1.ipynb\" target=\"_parent\"><img src=\"https://colab.research.google.com/assets/colab-badge.svg\" alt=\"Open In Colab\"/></a>"
      ]
    },
    {
      "cell_type": "code",
      "execution_count": null,
      "metadata": {
        "id": "etaqTgZXC4Ae"
      },
      "outputs": [],
      "source": [
        "def rectangle_area(length, width):\n",
        "    area = length * width\n",
        "    return area\n",
        "\n",
        "\n",
        "length = float(input(\"Enter the length of the rectangle: \"))\n",
        "width = float(input(\"Enter the width of the rectangle: \"))\n",
        "\n",
        "\n",
        "area = rectangle_area(length, width)\n",
        "print(\"The area of the rectangle is:\", area)\n",
        "\n",
        "\n",
        "def rectangle_area_from_diagonal_and_ratio(diagonal, aspect_ratio):\n",
        "    width = math.sqrt((diagonal ** 2) / (1 + aspect_ratio ** 2))\n",
        "    length = aspect_ratio * width\n",
        "    area = length * width\n",
        "    return area\n",
        "\n",
        "\n",
        "diagonal = float(input(\"Enter the diagonal length of the rectangle: \"))\n",
        "aspect_ratio = float(input(\"Enter the aspect ratio of the rectangle: \"))\n",
        "\n",
        "area = rectangle_area_from_diagonal_and_ratio(diagonal, aspect_ratio)\n",
        "print(\"The area of the rectangle is:\", area)"
      ]
    }
  ]
}