{
  "nbformat": 4,
  "nbformat_minor": 0,
  "metadata": {
    "colab": {
      "provenance": [],
      "authorship_tag": "ABX9TyPZMIyS+AqqOBT35u27wwwi",
      "include_colab_link": true
    },
    "kernelspec": {
      "name": "python3",
      "display_name": "Python 3"
    },
    "language_info": {
      "name": "python"
    }
  },
  "cells": [
    {
      "cell_type": "markdown",
      "metadata": {
        "id": "view-in-github",
        "colab_type": "text"
      },
      "source": [
        "<a href=\"https://colab.research.google.com/github/allenanday/58010-DSAA/blob/main/Array.ipynb\" target=\"_parent\"><img src=\"https://colab.research.google.com/assets/colab-badge.svg\" alt=\"Open In Colab\"/></a>"
      ]
    },
    {
      "cell_type": "markdown",
      "source": [
        "Accessing the Elements in the Array"
      ],
      "metadata": {
        "id": "lxTR9X23wiR4"
      }
    },
    {
      "cell_type": "code",
      "source": [
        "animals = [“cat”, “dog”, “fish”]\n",
        "x = animals[0]\n",
        "print (x)"
      ],
      "metadata": {
        "id": "0Yvb6Sa_wEOp"
      },
      "execution_count": null,
      "outputs": []
    },
    {
      "cell_type": "markdown",
      "source": [
        "Modifying the Elements in the Array"
      ],
      "metadata": {
        "id": "5GlKy952woj_"
      }
    },
    {
      "cell_type": "code",
      "source": [
        "animals = [“cat”, “dog”, “fish”]\n",
        "animals[0] = “monkey”\n",
        "print (x)"
      ],
      "metadata": {
        "id": "K5LwUYM7wt_e"
      },
      "execution_count": null,
      "outputs": []
    },
    {
      "cell_type": "markdown",
      "source": [
        "Length of an Array"
      ],
      "metadata": {
        "id": "3ZaiopSTxGAf"
      }
    },
    {
      "cell_type": "code",
      "source": [
        "animals = [“cat”, “dog”, “fish”]\n",
        "x = len(animals)\n",
        "print (x)"
      ],
      "metadata": {
        "id": "QaVKnFroxLlO"
      },
      "execution_count": null,
      "outputs": []
    },
    {
      "cell_type": "markdown",
      "source": [
        "Looping Array Elements"
      ],
      "metadata": {
        "id": "0__jv0PwxXMu"
      }
    },
    {
      "cell_type": "code",
      "source": [
        "animals = [“cat”, “dog”, “fish”]\n",
        "for x in animals:\n",
        "  print(x)"
      ],
      "metadata": {
        "id": "cvk-IZcgxdUe"
      },
      "execution_count": null,
      "outputs": []
    },
    {
      "cell_type": "markdown",
      "source": [
        "Adding Elements in the Array"
      ],
      "metadata": {
        "id": "eypCpP0bxvCX"
      }
    },
    {
      "cell_type": "code",
      "source": [
        "animals = [“cat”, “dog”, “fish”]\n",
        "animals.append(“monkey”)\n",
        "print(animals)"
      ],
      "metadata": {
        "id": "bm2tHYVjxwf2"
      },
      "execution_count": null,
      "outputs": []
    },
    {
      "cell_type": "markdown",
      "source": [
        "Removing an Element in the Array"
      ],
      "metadata": {
        "id": "K19zFDUyx4xl"
      }
    },
    {
      "cell_type": "code",
      "source": [
        "animals = [“cat”, “dog”, “fish”]\n",
        "animals.pop(1)                                                                                                                                        animals = [“cat”, “dog”, “fish”animals.pop(1)print(animals)\n",
        "print(animals)"
      ],
      "metadata": {
        "id": "4F7Mb8Tmx8rV"
      },
      "execution_count": null,
      "outputs": []
    },
    {
      "cell_type": "markdown",
      "source": [
        "Sort"
      ],
      "metadata": {
        "id": "AVl_kOK07uBv"
      }
    },
    {
      "cell_type": "code",
      "source": [
        "animals = [\"fish\" , \"monkey\" , \"cat\",\"dog\"]\n",
        "animals.sort()\n",
        "print(animals)\n"
      ],
      "metadata": {
        "id": "92-Cwxip6tDw"
      },
      "execution_count": null,
      "outputs": []
    }
  ]
}