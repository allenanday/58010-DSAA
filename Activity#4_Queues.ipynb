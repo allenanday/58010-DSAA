{
  "nbformat": 4,
  "nbformat_minor": 0,
  "metadata": {
    "colab": {
      "provenance": [],
      "authorship_tag": "ABX9TyNm3ZWx3Y4pe9FZba4POhcZ",
      "include_colab_link": true
    },
    "kernelspec": {
      "name": "python3",
      "display_name": "Python 3"
    },
    "language_info": {
      "name": "python"
    }
  },
  "cells": [
    {
      "cell_type": "markdown",
      "metadata": {
        "id": "view-in-github",
        "colab_type": "text"
      },
      "source": [
        "<a href=\"https://colab.research.google.com/github/allenanday/58010-DSAA/blob/main/Activity%234_Queues.ipynb\" target=\"_parent\"><img src=\"https://colab.research.google.com/assets/colab-badge.svg\" alt=\"Open In Colab\"/></a>"
      ]
    },
    {
      "cell_type": "code",
      "execution_count": 1,
      "metadata": {
        "colab": {
          "base_uri": "https://localhost:8080/"
        },
        "id": "RM0UfbDgEESf",
        "outputId": "da123e64-f2cc-4287-b7a2-bd738dac060d"
      },
      "outputs": [
        {
          "output_type": "stream",
          "name": "stdout",
          "text": [
            "Dequeued: 2\n",
            "Dequeued: 4\n",
            "Dequeued: 6\n",
            "Dequeued: 8\n",
            "Dequeued: 10\n",
            "Dequeued: 12\n",
            "Dequeued: 14\n",
            "Dequeued: 16\n",
            "Dequeued: 18\n",
            "Dequeued: 20\n",
            "Dequeued: 22\n",
            "Dequeued: 24\n",
            "Dequeued: 26\n",
            "Dequeued: 28\n",
            "Dequeued: 30\n",
            "Dequeued: 32\n",
            "Dequeued: 34\n",
            "Dequeued: 36\n",
            "Dequeued: 38\n",
            "Dequeued: 40\n",
            "Dequeued: 42\n",
            "Dequeued: 44\n",
            "Dequeued: 46\n",
            "Dequeued: 48\n",
            "Dequeued: 50\n",
            "Queue is empty.\n"
          ]
        }
      ],
      "source": [
        "import queue\n",
        "\n",
        "my_queue = queue.Queue()\n",
        "\n",
        "for num in range(1, 51):\n",
        "    if num % 2 == 0:\n",
        "        my_queue.put(num)\n",
        "\n",
        "while not my_queue.empty():\n",
        "    item = my_queue.get()\n",
        "    print(f\"Dequeued: {item}\")\n",
        "\n",
        "print(\"Queue is empty.\")"
      ]
    },
    {
      "cell_type": "markdown",
      "source": [
        "Create a Python program that will traverse all integers (1 to 50) from the list, enqueue those integers that are even in the list, and dequeue afterward until the list becomes empty."
      ],
      "metadata": {
        "id": "rrDfAhkqF0Hp"
      }
    }
  ]
}