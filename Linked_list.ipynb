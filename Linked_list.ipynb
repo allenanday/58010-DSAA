{
  "nbformat": 4,
  "nbformat_minor": 0,
  "metadata": {
    "colab": {
      "provenance": [],
      "authorship_tag": "ABX9TyOMGqL1nEjdF3oMb9aAp0m5",
      "include_colab_link": true
    },
    "kernelspec": {
      "name": "python3",
      "display_name": "Python 3"
    },
    "language_info": {
      "name": "python"
    }
  },
  "cells": [
    {
      "cell_type": "markdown",
      "metadata": {
        "id": "view-in-github",
        "colab_type": "text"
      },
      "source": [
        "<a href=\"https://colab.research.google.com/github/allenanday/58010-DSAA/blob/main/Linked_list.ipynb\" target=\"_parent\"><img src=\"https://colab.research.google.com/assets/colab-badge.svg\" alt=\"Open In Colab\"/></a>"
      ]
    },
    {
      "cell_type": "code",
      "execution_count": 4,
      "metadata": {
        "colab": {
          "base_uri": "https://localhost:8080/",
          "height": 35
        },
        "id": "6yHp5Ibf_mLI",
        "outputId": "ed3dae8b-41c4-4719-eaef-02497f97132f"
      },
      "outputs": [
        {
          "output_type": "execute_result",
          "data": {
            "text/plain": [
              "'f'"
            ],
            "application/vnd.google.colaboratory.intrinsic+json": {
              "type": "string"
            }
          },
          "metadata": {},
          "execution_count": 4
        }
      ],
      "source": [
        "import array\n",
        "array.typecodes\n",
        "a = array.array('i',[1,2,3,4,5,6,])\n",
        "b = array.array('f',[1.5,2.5,3.5,4.5,5.5,6.5])\n",
        "a.typecode\n",
        "b.typecode"
      ]
    },
    {
      "cell_type": "code",
      "source": [
        "import array\n",
        "array.typecodes\n",
        "a = array.array('f',[1,2,3,4,5,6,])\n",
        "a. typecode"
      ],
      "metadata": {
        "colab": {
          "base_uri": "https://localhost:8080/",
          "height": 35
        },
        "id": "MLp6R7xAJxPi",
        "outputId": "dac76c8f-1a5c-4f25-e76e-826b6a947961"
      },
      "execution_count": 6,
      "outputs": [
        {
          "output_type": "execute_result",
          "data": {
            "text/plain": [
              "'f'"
            ],
            "application/vnd.google.colaboratory.intrinsic+json": {
              "type": "string"
            }
          },
          "metadata": {},
          "execution_count": 6
        }
      ]
    },
    {
      "cell_type": "code",
      "source": [
        "from array import array\n",
        "a=array('i',[4,5,6,7])\n",
        "a.insert(1,2)\n",
        "array ('i', [4,2,5,6,7])\n",
        "a.insert(-1,0)\n",
        "a\n",
        "a.insert(10,0)\n",
        "a\n",
        "array ('i', [4,2,5,6,7,-1])"
      ],
      "metadata": {
        "colab": {
          "base_uri": "https://localhost:8080/"
        },
        "id": "455MpNkAKJKR",
        "outputId": "2e603a22-809a-47a5-a6dc-253e9033150f"
      },
      "execution_count": 7,
      "outputs": [
        {
          "output_type": "execute_result",
          "data": {
            "text/plain": [
              "array('i', [4, 2, 5, 6, 7, -1])"
            ]
          },
          "metadata": {},
          "execution_count": 7
        }
      ]
    },
    {
      "cell_type": "code",
      "source": [],
      "metadata": {
        "id": "gBdJGw1sLOqR"
      },
      "execution_count": null,
      "outputs": []
    },
    {
      "cell_type": "code",
      "source": [
        "class Node:\n",
        " def __init__(self,data):\n",
        "   self.data = data\n",
        "   self.next = None\n",
        "\n",
        "   class LinkedList:\n",
        "      def __init__(self):\n",
        "        self.head = None\n"
      ],
      "metadata": {
        "id": "ZoCC9Yf9LhNx"
      },
      "execution_count": 16,
      "outputs": []
    },
    {
      "cell_type": "code",
      "source": [
        "class Node:\n",
        "  def __init__(self, data):\n",
        "    self.data =data\n",
        "    self.next = None\n",
        "  class Linkedlist:\n",
        "    def__init__(self):\n",
        "      self.head= None\n",
        "      if __name=='__main__':\n",
        "\n",
        "        llist = Linkedlist()\n",
        "\n",
        "        llist.head = Node(1)\n",
        "        second = Node(2)\n",
        "        third = Node(3)\n",
        "\n",
        "        llist.head.next = second;\n",
        "        second.next = third;"
      ],
      "metadata": {
        "id": "cC4k90Z7PpQB"
      },
      "execution_count": null,
      "outputs": []
    }
  ]
}