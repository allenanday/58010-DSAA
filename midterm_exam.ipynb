{
  "nbformat": 4,
  "nbformat_minor": 0,
  "metadata": {
    "colab": {
      "provenance": [],
      "authorship_tag": "ABX9TyN2stWwcpw6niFHIcA19+MD",
      "include_colab_link": true
    },
    "kernelspec": {
      "name": "python3",
      "display_name": "Python 3"
    },
    "language_info": {
      "name": "python"
    }
  },
  "cells": [
    {
      "cell_type": "markdown",
      "metadata": {
        "id": "view-in-github",
        "colab_type": "text"
      },
      "source": [
        "<a href=\"https://colab.research.google.com/github/allenanday/58010-DSAA/blob/main/midterm_exam.ipynb\" target=\"_parent\"><img src=\"https://colab.research.google.com/assets/colab-badge.svg\" alt=\"Open In Colab\"/></a>"
      ]
    },
    {
      "cell_type": "code",
      "execution_count": 1,
      "metadata": {
        "colab": {
          "base_uri": "https://localhost:8080/"
        },
        "id": "W-IkGsFjhDYu",
        "outputId": "ade21c54-e29b-4d83-e8fd-f1d9c3f82984"
      },
      "outputs": [
        {
          "output_type": "stream",
          "name": "stdout",
          "text": [
            "Vertices:\n",
            "A\n",
            "B\n",
            "C\n",
            "\n",
            "Edges:\n",
            "A -- B\n",
            "B -- A\n",
            "B -- C\n",
            "C -- B\n"
          ]
        }
      ],
      "source": [
        "class Graph:\n",
        "    def __init__(self):\n",
        "        self.graph = {}\n",
        "\n",
        "    def add_vertex(self, vertex):\n",
        "        if vertex not in self.graph:\n",
        "            self.graph[vertex] = []\n",
        "\n",
        "    def add_edge(self, vertex1, vertex2):\n",
        "        if vertex1 in self.graph and vertex2 in self.graph:\n",
        "            self.graph[vertex1].append(vertex2)\n",
        "            self.graph[vertex2].append(vertex1)\n",
        "\n",
        "    def display_graph(self):\n",
        "        print(\"Vertices:\")\n",
        "        for vertex in self.graph:\n",
        "            print(vertex)\n",
        "\n",
        "        print(\"\\nEdges:\")\n",
        "        for vertex, edges in self.graph.items():\n",
        "            for edge in edges:\n",
        "                print(f\"{vertex} -- {edge}\")\n",
        "\n",
        "\n",
        "if __name__ == \"__main__\":\n",
        "\n",
        "    exam_graph = Graph()\n",
        "\n",
        "    exam_graph.add_vertex(\"A\")\n",
        "    exam_graph.add_vertex(\"B\")\n",
        "    exam_graph.add_vertex(\"C\")\n",
        "\n",
        "    exam_graph.add_edge(\"A\", \"B\")\n",
        "    exam_graph.add_edge(\"B\", \"C\")\n",
        "\n",
        "    exam_graph.display_graph()"
      ]
    }
  ]
}