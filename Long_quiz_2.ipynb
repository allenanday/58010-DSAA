{
  "nbformat": 4,
  "nbformat_minor": 0,
  "metadata": {
    "colab": {
      "provenance": [],
      "authorship_tag": "ABX9TyOMFBuZyOLcT7GhRZ9ywqPv",
      "include_colab_link": true
    },
    "kernelspec": {
      "name": "python3",
      "display_name": "Python 3"
    },
    "language_info": {
      "name": "python"
    }
  },
  "cells": [
    {
      "cell_type": "markdown",
      "metadata": {
        "id": "view-in-github",
        "colab_type": "text"
      },
      "source": [
        "<a href=\"https://colab.research.google.com/github/allenanday/58010-DSAA/blob/main/Long_quiz_2.ipynb\" target=\"_parent\"><img src=\"https://colab.research.google.com/assets/colab-badge.svg\" alt=\"Open In Colab\"/></a>"
      ]
    },
    {
      "cell_type": "code",
      "source": [
        "class graph:\n",
        "   def __init__(self,gdict=None):\n",
        "      if gdict is None:\n",
        "         gdict = {}\n",
        "      self.gdict = gdict\n",
        "\n",
        "   def edges(self):\n",
        "      return self.findedges()\n",
        "\n",
        "   def findedges(self):\n",
        "      edgename = []\n",
        "      for vrtx in self.gdict:\n",
        "         for nxtvrtx in self.gdict[vrtx]:\n",
        "            if {nxtvrtx, vrtx} not in edgename:\n",
        "               edgename.append({vrtx, nxtvrtx})\n",
        "      return edgename\n",
        "\n",
        "graph_elements = {\n",
        "    \"E\" : [\"I\",\"J\", \"K\", \"M\"],\n",
        "   \"F\" : [\"J\", \"I\", \"K\", \"P\"],\n",
        "   \"J\" : [\"H\", \"E\", \"F\"],\n",
        "   \"H\" : [\"J\", \"K\", \"I\"],\n",
        "   \"I\" : [\"H\", \"F\", \"E\"],\n",
        "   \"K\" : [\"H\", \"E\", \"F\"],\n",
        "   \"M\" : [\"E\"],\n",
        "   \"P\" : [\"F\"]\n",
        "}\n",
        "g = graph(graph_elements)\n",
        "print(g.edges())"
      ],
      "metadata": {
        "id": "gFd4ziv4WoyL"
      },
      "execution_count": null,
      "outputs": []
    },
    {
      "cell_type": "code",
      "source": [
        "class graph:\n",
        "   def __init__(self,gdict=None):\n",
        "      if gdict is None:\n",
        "         gdict = []\n",
        "      self.gdict = gdict\n",
        "\n",
        "   def getVertices(self):\n",
        "      return list(self.gdict.keys())\n",
        "\n",
        "graph_elements = {\n",
        "   \"E\" : [\"I\",\"J\", \"K\", \"M\"],\n",
        "   \"F\" : [\"J\", \"I\", \"K\", \"P\"],\n",
        "   \"J\" : [\"H\", \"E\", \"F\"],\n",
        "   \"H\" : [\"J\", \"K\", \"I\"],\n",
        "   \"I\" : [\"H\", \"F\", \"E\"],\n",
        "   \"K\" : [\"H\", \"E\", \"F\"],\n",
        "   \"M\" : [\"E\"],\n",
        "   \"P\" : [\"F\"]\n",
        "}\n",
        "g = graph(graph_elements)\n",
        "print(g.getVertices())"
      ],
      "metadata": {
        "id": "W5y-GkxKW5hQ"
      },
      "execution_count": null,
      "outputs": []
    }
  ]
}